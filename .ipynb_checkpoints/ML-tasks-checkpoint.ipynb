{
 "cells": [
  {
   "cell_type": "markdown",
   "metadata": {},
   "source": [
    "# Machine Learning and Statistics\n",
    "\n",
    "\n",
    "## Tasks 2020\n",
    "\n",
    "\n",
    "\n",
    "\n",
    "\n",
    "\n"
   ]
  },
  {
   "cell_type": "markdown",
   "metadata": {},
   "source": [
    "Student: Doris Zdravkovic "
   ]
  },
  {
   "cell_type": "markdown",
   "metadata": {},
   "source": [
    "##### Task 1.  Write a Python function called sqrt2 that calculates and prints to the screen the square root of 2 to 100 decimal places."
   ]
  },
  {
   "cell_type": "markdown",
   "metadata": {},
   "source": [
    "My plan to finish the task:\n",
    "\n",
    "\n",
    "1. Research the topic by repeated watching the lecture video and find more information online.\n",
    "2. Based on information that I find I will write a python function that calculates square root of 2.\n",
    "3. Use Pyhton to set the output to 100 decimal places without using any libraries.\n",
    "4. Test my function using Python library.\n",
    "5. Write conclusion and references."
   ]
  },
  {
   "cell_type": "markdown",
   "metadata": {},
   "source": [
    "#### 1.1 Square root of 2"
   ]
  },
  {
   "cell_type": "markdown",
   "metadata": {},
   "source": [
    "The square root of 2 or root 2 is represented using the square root symbol √ and written as √2 whose value is 1.414. This value is widely used in mathematics. Root 2 is an irrational number as it cannot be expressed as a fraction and has an infinite number of decimals. So, the exact value of the root of 2 cannot be determined. The square root of 2 is the number which when multiplied with itself gives the result as 2. It is generally represented as √2 or 2½. At present, the root 2 value is computed to 10 trillion digits. For general use, its value is truncated and is used as 1.414 to make calculations easy. \n",
    "\n",
    "\n",
    "To find the square root value of a number, we usually check if the number is a perfect square or not. It is easy to find the root of perfect squares, but for non-perfect squares, we have to use the long division method to find the root value. Numbers like 2, 3, 5, 20, etc. are non-perfect squares, but 4, 9, 25, etc. are perfect squares, which gives the whole number when we take the root of them.\n",
    "\n",
    "Value of Square Root of 2 by Long Division Method\n",
    "\n",
    "Step 1: In this method, you have to make an estimate first, means you have chosen a close number by finding at-least two roots which are perfect. It has been those root that your number is between those values.\n",
    "\n",
    "Step 2: Then, you can divide the number by one of those square roots.\n",
    "\n",
    "Step 3: Once you start and continue with the division process, you will need to take the average of the result of step 2 and the root. And finally, you can use the result that you get in step 3 to repeat the 2nd and 3rd step until you get a number that is satisfactory or accurate enough for you. https://byjus.com/maths/square-root-of-2/"
   ]
  },
  {
   "cell_type": "markdown",
   "metadata": {},
   "source": [
    "#### 1.4. Testing the square root 2"
   ]
  },
  {
   "cell_type": "code",
   "execution_count": 5,
   "metadata": {},
   "outputs": [
    {
     "data": {
      "text/plain": [
       "Decimal('1.414213562373095048801688724209698078569671875376948073176679737990732478462107038850387534327641573')"
      ]
     },
     "execution_count": 5,
     "metadata": {},
     "output_type": "execute_result"
    }
   ],
   "source": [
    "# Code taken from: \n",
    "# https://stackoverflow.com/questions/4733173/how-can-i-show-an-irrational-number-to-100-decimal-places-in-python\n",
    "\n",
    "# Import decimal module\n",
    "from decimal import *\n",
    "# Formating to 100 decimal places\n",
    "getcontext().prec = 100\n",
    "# Root of 2\n",
    "Decimal(2).sqrt()"
   ]
  },
  {
   "cell_type": "code",
   "execution_count": 10,
   "metadata": {},
   "outputs": [
    {
     "name": "stdout",
     "output_type": "stream",
     "text": [
      "1.4142135623730951\n"
     ]
    },
    {
     "data": {
      "text/plain": [
       "'1.4142135623730951454746218587388284504413604736328125000000000000000000000000000000000000000000000000'"
      ]
     },
     "execution_count": 10,
     "metadata": {},
     "output_type": "execute_result"
    }
   ],
   "source": [
    "# Code adjusted from: https://www.geeksforgeeks.org/python-math-function-sqrt/\n",
    "# Import the math module  \n",
    "import math  \n",
    "  \n",
    "# Print the square root of  2  \n",
    "print(math.sqrt(2)) \n",
    "# Format to 100 decimal places\n",
    "format(sqr,'.100f' )"
   ]
  },
  {
   "cell_type": "code",
   "execution_count": null,
   "metadata": {},
   "outputs": [],
   "source": []
  }
 ],
 "metadata": {
  "kernelspec": {
   "display_name": "Python 3",
   "language": "python",
   "name": "python3"
  },
  "language_info": {
   "codemirror_mode": {
    "name": "ipython",
    "version": 3
   },
   "file_extension": ".py",
   "mimetype": "text/x-python",
   "name": "python",
   "nbconvert_exporter": "python",
   "pygments_lexer": "ipython3",
   "version": "3.7.1"
  }
 },
 "nbformat": 4,
 "nbformat_minor": 4
}
