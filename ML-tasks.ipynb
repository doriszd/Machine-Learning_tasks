{
 "cells": [
  {
   "cell_type": "markdown",
   "metadata": {},
   "source": [
    "# Machine Learning and Statistics\n",
    "\n",
    "\n",
    "## Tasks 2020\n",
    "\n",
    "\n",
    "\n",
    "\n",
    "\n",
    "\n"
   ]
  },
  {
   "cell_type": "markdown",
   "metadata": {},
   "source": [
    "## Student: Doris Zdravkovic \n",
    "\n",
    "_______________________________________________________________________________________________________________________________"
   ]
  },
  {
   "cell_type": "markdown",
   "metadata": {},
   "source": [
    "#### Task 1.  Write a Python function called sqrt2 that calculates and prints to the screen the square root of 2 to 100 decimal places."
   ]
  },
  {
   "cell_type": "markdown",
   "metadata": {},
   "source": [
    "Completion of the task:\n",
    "\n",
    "\n",
    "1. Research the topic by repeated watching the lecture video and find more information online.\n",
    "2. Based on information that I find I will write a python function that calculates square root of 2 and use Pyhton to set the output to 100 decimal places without using any libraries.\n",
    "3. Test my function using Python library.\n",
    "4. Write conclusion and references."
   ]
  },
  {
   "cell_type": "markdown",
   "metadata": {},
   "source": [
    "#### 1.1. Square root of 2"
   ]
  },
  {
   "cell_type": "markdown",
   "metadata": {},
   "source": [
    "The square root of 2 or root 2 is represented using the square root symbol √ and written as √2 whose value is 1.414. This value is widely used in mathematics. It is an irrational number as it cannot be expressed as a fraction and has an infinite number of decimals. So, the exact value of the root of 2 cannot be determined. The square root of 2 is the number which when multiplied with itself gives the result as 2. The root 2 value can be computed to 10 trillion digits. For general use, its value is truncated and is used as 1.414 to make calculations easy. \n",
    "\n",
    "\n",
    "To find the square root value of a number, we usually check if the number is a perfect square or not. It is easy to find the root of perfect squares, but for non-perfect squares, we have to use the long division method to find the root value. Numbers like 2, 3, 5, 20, etc. are non-perfect squares, but 4, 9, 25, etc. are perfect squares, which gives the whole number when we take the root of them (byjus.com).\n",
    "\n",
    "#### 1.2. Newton's method\n",
    "\n",
    "In numerical analysis, Newton's method, also known as the Newton–Raphson method, named after Isaac Newton and Joseph Raphson, is a root-finding algorithm which produces successively better approximations to the roots (or zeroes) of a real-valued function. The root of a function is the point at which f(x)=0. Many equations have more than one root. Every real polynomial of odd degree has an odd number of real roots. Newton-Raphson is an iterative method that begins with an initial guess of the root. The method uses the derivative of the function f′(x) as well as the original function f(x), and thus only works when the derivative can be determined (aaronschlegel.me)\n",
    ".\n",
    "In the next paragraph each step of Newton's method will be explained. \n",
    "\n",
    "\n",
    "###### Algorithm\n",
    "\n",
    "This algorithm describes steps or phases of the method. I find these steps very useful for better understanding of the function that will be of a great help when actually doing Pyhton coding of root 2 (hackernoon.com).\n",
    "\n",
    "1. Take a reasonable guess (approximate root) for the square root.\n",
    "2. Add the approximate root with the original number divided by the approximate root and divide by 2.\n",
    "x_i := (x_i + n / x_i) / 2\n",
    "3. Continue step 2 until the difference in the approximate root along the iterations is less than the desired value (or precision value).\n",
    "4. The approximate root is the square root we want.\n",
    "\n"
   ]
  },
  {
   "cell_type": "markdown",
   "metadata": {},
   "source": [
    "My Python code is based on the algorithm below. The algorithm was taken from the above mentioned web page and there will be some adjustments done in order to complete the task as necessary. Firstly, function is defined as mySqrt and x is a number that we want to find the root of. In this case x will be 2. The variable r is equal to x and used as the guess of starting square root which means that r would be eqal to 2. This part will be changed in my Pyhton code because I will set guess variable to 1 as a reasonable guess or approximate root. As there is no best initial guess according to computingskillset.com I will set my guess variable to 1. After the guess we move to next step and set the precision. Next step is to loop the root as long as it is higher than precision and it has to be divided by 2. \n",
    "\n",
    "def mySqrt(x):\n",
    "\n",
    "    r = x\n",
    "    precision = 10 ** (-10)\n",
    "    \n",
    "    while abs(x - r * r) > precision:\n",
    "        r = (r + x / r) / 2\n",
    "        \n",
    "    return r\n",
    "    \n",
    "    \n",
    "As I already mentioned this function will be used as layout for my code and there will be some changes made. "
   ]
  },
  {
   "cell_type": "code",
   "execution_count": 86,
   "metadata": {},
   "outputs": [
    {
     "name": "stdout",
     "output_type": "stream",
     "text": [
      "1.4142135623746899\n",
      "Number of iterations: 4\n"
     ]
    },
    {
     "data": {
      "text/plain": [
       "'1.4142135623746898698271934335934929549694061279296875000000000000000000000000000000000000000000000000'"
      ]
     },
     "execution_count": 86,
     "metadata": {},
     "output_type": "execute_result"
    }
   ],
   "source": [
    "# Newton's square root of 2\n",
    "def sqrt2(x = 2):\n",
    "   # x = 2 because we are calculating root of 2\n",
    "    # Reasonable guess for the square root of 2.\n",
    "    guess = 1\n",
    "    # As per code above\n",
    "    precision = 10 ** (-10)\n",
    "# Iteration is set to 0\n",
    "    iter = 0\n",
    "    \n",
    "# Loop guess*guess until root of 2 is reached\n",
    "\n",
    "    while abs(x - guess * guess) > precision:\n",
    "# Calcuation of even more precise guess for the square root of 2.\n",
    "        guess = (guess+x/guess) / 2 \n",
    "#  Number of iterations.\n",
    "        iter += 1\n",
    "\n",
    "# Returning root of 2 and number of iterations.\n",
    "    return guess, iter\n",
    " \n",
    "# First element = sqrt(2); second = number of iterations.\n",
    "# Getting the root of 2.\n",
    "root = sqrt2()[0]\n",
    "\n",
    "# Getting the number of iterations.\n",
    "n = sqrt2()[1]\n",
    "# type(n)\n",
    "\n",
    "# Printing the root of 2  \n",
    "print(root)\n",
    "\n",
    "# Using string formatting to print number of decimal places required.\n",
    "print(\"Number of iterations:\", n)\n",
    "# Setting root of 2 to 100 decimal places.\n",
    "format(root, '.100f')   "
   ]
  },
  {
   "cell_type": "markdown",
   "metadata": {},
   "source": [
    "I was curious if I would get the same result if I changed the guess variable. So I will test the same code again with guess variable changed to 1.33 instead of 1. I have randomly chosen number 1.33. From the code below we can see that there are slight differences. As my guess variable was higher than in the first code (1.33 instead of 1) the number of iterations decreased from 4 to 3. The root of 2 has slightly changed as well. The only thing that remained the same are zeros at the end of the root of 2. "
   ]
  },
  {
   "cell_type": "code",
   "execution_count": 87,
   "metadata": {},
   "outputs": [
    {
     "name": "stdout",
     "output_type": "stream",
     "text": [
      "1.4142135623753198\n",
      "Number of iterations: 3\n"
     ]
    },
    {
     "data": {
      "text/plain": [
       "'1.4142135623753198103713657474145293235778808593750000000000000000000000000000000000000000000000000000'"
      ]
     },
     "execution_count": 87,
     "metadata": {},
     "output_type": "execute_result"
    }
   ],
   "source": [
    "# Newton's square root of 2\n",
    "def sqrt2(x = 2):\n",
    "   # x = 2 because we are calculating root of 2\n",
    "    # Reasonable guess for the square root of 2.\n",
    "    guess = 1.33\n",
    "    # As per code above\n",
    "    precision = 10 ** (-10)\n",
    "# Iteration is set to 0\n",
    "    iter = 0\n",
    "    \n",
    "# Loop guess*guess until root of 2 is reached\n",
    "\n",
    "    while abs(x - guess * guess) > precision:\n",
    "# Calcuation of even more precise guess for the square root of 2.\n",
    "        guess = (guess+x/guess) / 2 \n",
    "#  Number of iterations.\n",
    "        iter += 1\n",
    "\n",
    "# Returning root of 2 and number of iterations.\n",
    "    return guess, iter\n",
    " \n",
    "# First element = sqrt(2); second = number of iterations.\n",
    "# Getting the root of 2.\n",
    "root = sqrt2()[0]\n",
    "\n",
    "# Getting the number of iterations.\n",
    "n = sqrt2()[1]\n",
    "# type(n)\n",
    "\n",
    "# Printing the root of 2  \n",
    "print(root)\n",
    "\n",
    "# Using string formatting to print number of decimal places required.\n",
    "print(\"Number of iterations:\", n)\n",
    "# Setting root of 2 to 100 decimal places.\n",
    "format(root, '.100f')   "
   ]
  },
  {
   "cell_type": "markdown",
   "metadata": {},
   "source": [
    "#### 1.3. Testing the square root 2"
   ]
  },
  {
   "cell_type": "markdown",
   "metadata": {},
   "source": [
    "Since I have tested my code twice with different guess variable and the end result was different, I will use 2 different Python modules to test if the square root of 2 shows any similar results. Python has a built-in module that you can use for mathematical tasks called math.sqrt and the decimal module that provides support for decimal floating point arithmetic (docs.python.org)."
   ]
  },
  {
   "cell_type": "code",
   "execution_count": 88,
   "metadata": {},
   "outputs": [
    {
     "data": {
      "text/plain": [
       "Decimal('1.414213562373095048801688724209698078569671875376948073176679737990732478462107038850387534327641573')"
      ]
     },
     "execution_count": 88,
     "metadata": {},
     "output_type": "execute_result"
    }
   ],
   "source": [
    "# Code taken from: \n",
    "# https://docs.python.org/2/library/decimal.html\n",
    "\n",
    "# Import decimal module\n",
    "from decimal import *\n",
    "# Formating to 100 decimal places\n",
    "getcontext().prec = 100\n",
    "# Root of 2\n",
    "Decimal(2).sqrt()"
   ]
  },
  {
   "cell_type": "code",
   "execution_count": 89,
   "metadata": {},
   "outputs": [
    {
     "name": "stdout",
     "output_type": "stream",
     "text": [
      "1.4142135623730951\n"
     ]
    },
    {
     "data": {
      "text/plain": [
       "'1.4142135623730951454746218587388284504413604736328125000000000000000000000000000000000000000000000000'"
      ]
     },
     "execution_count": 89,
     "metadata": {},
     "output_type": "execute_result"
    }
   ],
   "source": [
    "# Code adjusted from: https://www.geeksforgeeks.org/python-math-function-sqrt/\n",
    "# Import the math module  \n",
    "import math  \n",
    "  \n",
    "# Print the square root of  2  \n",
    "print(math.sqrt(2)) \n",
    "# Format to 100 decimal places\n",
    "format(sqr,'.100f' )"
   ]
  },
  {
   "cell_type": "markdown",
   "metadata": {},
   "source": [
    "Interestingly, all 4 Python codes that I have run gave slightly different result. Even modules \"decimal\" and \"math\" have output dissimilar result which was unexpected. Before I ran the test I was convinced that the output of the two modules would be the same or at least very similar as they are both Python libraries made by professionals or there is some kind of generalized, standard algorithm used to calculate root of any number. "
   ]
  },
  {
   "cell_type": "markdown",
   "metadata": {},
   "source": [
    "##### 1.4. Conclusion\n",
    "\n",
    "After doing all these tests on root 2 I have realized why this topic is interesting for research. I will be going back at what I have written at the beginning of the project when I was trying to explain the importance of root 2. It says that \"the exact value of the root of 2 cannot be determined\" and even if I didn't take that information seriously at first, now after four different testings I can confirm the same as I got 4 different results. What matters most is that all results output what we call root of 2, and that is a float number 1.414, therefore we can say that all four algorithms have been sucessful. The most precise one was algorithm using decimal module as it is the only one that does not end with numerous zeros. It is not repetitive as other results. The reason might be the number of decimal points. As the number of decimal points increases the algorithm is not able to produce the precise result so it outputs zeros instead. What is interesting about this project is even though decimal module gave us \"correct\" results, without outputting zeros, we still can't be sure if that is the correct answer as the exact value of root of 2 cannot be precisely determined. "
   ]
  },
  {
   "cell_type": "markdown",
   "metadata": {},
   "source": [
    "##### References\n",
    "\n",
    "Square root of 2: https://byjus.com/maths/square-root-of-2/\n",
    "\n",
    "Newton's Method for Finding Equation Roots: https://aaronschlegel.me/newtons-method-equation-roots.html\n",
    "\n",
    "Calculating the Square Root of a Number using the  Newton-Raphson Method: https://hackernoon.com/calculating-the-square-root-of-a-number-using-the-newton-raphson-method-a-how-to-guide-yr4e32zo\n",
    "\n",
    "How to Find the Initial Guess in Newton’s Method: https://computingskillset.com/solving-equations/how-to-find-the-initial-guess-in-newtons-method/ \n",
    "\n",
    "Decimal fixed point and floating point arithmetic: https://docs.python.org/2/library/decimal.html\n",
    "\n",
    "Python math function | sqrt(): https://www.geeksforgeeks.org/python-math-function-sqrt/\n",
    "\n",
    "Extra readings:\n",
    "\n",
    "Square root of 2: https://en.wikipedia.org/wiki/Square_root_of_2\n",
    "\n",
    "The square root of 2: https://cosmosmagazine.com/mathematics/the-square-root-of-2/\n",
    "\n",
    "Proof that the square root of 2 is irrational: https://www.khanacademy.org/math/algebra/x2f8bb11595b61c86:irrational-numbers/x2f8bb11595b61c86:proofs-concerning-irrational-numbers/v/proof-that-square-root-of-2-is-irrational\n",
    "\n",
    "The Newton-Raphson Method: http://www.sosmath.com/calculus/diff/der07/der07.html"
   ]
  },
  {
   "cell_type": "markdown",
   "metadata": {},
   "source": [
    "#### Task 2. Use scipy.stats to verify given value and calculate the associated p value of Chi squared test."
   ]
  },
  {
   "cell_type": "markdown",
   "metadata": {},
   "source": [
    "Completion of the task:\n",
    "\n",
    "\n",
    "1. Research chi squared test online.\n",
    "2. Based on information that I find I will write a chi square python function in scipy.stats to verify given Chi square value and calculate p value. \n",
    "3. Write analysis\n",
    "4. Write conclusion and references."
   ]
  },
  {
   "cell_type": "markdown",
   "metadata": {},
   "source": [
    "#####  2.1 Chi squared test\n",
    "\n",
    "\n",
    "The Chi Square statistic is commonly used for testing relationships between categorical variables.  The null hypothesis of the Chi-Square test is that no relationship exists on the categorical variables in the population; they are independent. The Chi-Square statistic is most commonly used to evaluate Tests of Independence when using a crosstabulation (also known as a bivariate table).  Crosstabulation presents the distributions of two categorical variables simultaneously, with the intersections of the categories of the variables appearing in the cells of the table.  The Test of Independence assesses whether an association exists between the two variables by comparing the observed pattern of responses in the cells to the pattern that would be expected if the variables were truly independent of each other.  Calculating the Chi-Square statistic and comparing it against a critical value from the Chi-Square distribution allows the researcher to assess whether the observed cell counts are significantly different from the expected cell counts.https://www.statisticssolutions.com/using-chi-square-statistic-in-research/\n",
    "\n"
   ]
  },
  {
   "cell_type": "markdown",
   "metadata": {},
   "source": [
    "Example chi-squared test for categorical data\n",
    "\n",
    "Suppose there is a city of 1,000,000 residents with four neighborhoods: A, B, C, and D. A random sample of 650 residents of the city is taken and their occupation is recorded as \"white collar\", \"blue collar\", or \"no collar\". The null hypothesis is that each person's neighborhood of residence is independent of the person's occupational classification.The data are tabulated as:"
   ]
  },
  {
   "cell_type": "markdown",
   "metadata": {},
   "source": [
    "![data](\"tablica_wiki.PNG\")"
   ]
  }
 ],
 "metadata": {
  "kernelspec": {
   "display_name": "Python 3",
   "language": "python",
   "name": "python3"
  },
  "language_info": {
   "codemirror_mode": {
    "name": "ipython",
    "version": 3
   },
   "file_extension": ".py",
   "mimetype": "text/x-python",
   "name": "python",
   "nbconvert_exporter": "python",
   "pygments_lexer": "ipython3",
   "version": "3.7.3"
  }
 },
 "nbformat": 4,
 "nbformat_minor": 4
}
